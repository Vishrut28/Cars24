{
  "cells": [
    {
      "cell_type": "markdown",
      "metadata": {
        "id": "GbJ8a1gmy5ka"
      },
      "source": [
        "# License Plate Detection and OCR Processing\n",
        "\n",
        "## Table of Contents\n",
        "1. [Frame Extraction](#frame-extraction)\n",
        "2. [License Plate Detection](#license-plate-detection)\n",
        "3. [Image Cropping](#image-cropping)\n",
        "4. [OCR and Data Retrieval](#ocr-and-data-retrieval)\n",
        "\n",
        "In this Jupyter notebook, we guide you through the comprehensive process of building a computer vision application with LandingLens that detects and reads license plates from videos. Each section is crafted to provide you with a conceptual understanding of the step in the process and practical code examples. The process starts with frame extraction, followed by the detection and cropping of license plates, and finally, optical character recognition (OCR) for data retrieval.\n",
        "\n",
        " By the end of this notebook, not only will you have a functioning license plate reader, but you'll also possess foundational knowledge and techniques that are transferable to a myriad of other computer vision applications. Whether you're aiming to recognize faces, track objects, or read text from images, the principles and methods showcased here will serve as a valuable cornerstone for your future projects.\n"
      ]
    },
    {
      "cell_type": "markdown",
      "metadata": {
        "id": "HtE8sYq3y5ki"
      },
      "source": [
        "## Installation and Setup\n",
        "\n",
        "1. Install the `landingai` python package.\n",
        "2. We prepared a video clip with license plates from different cars on a street. Download the video clip to your local drive.\n",
        "\n",
        "The video file will be downloaded at `/tmp/license-plates.mov`"
      ]
    },
    {
      "cell_type": "code",
      "execution_count": 10,
      "metadata": {
        "scrolled": true,
        "id": "4sP_mtmxy5kj",
        "outputId": "4a0592ad-b6cd-4c3f-e61f-e595c08d753c",
        "colab": {
          "base_uri": "https://localhost:8080/"
        }
      },
      "outputs": [
        {
          "output_type": "execute_result",
          "data": {
            "text/plain": [
              "0"
            ]
          },
          "metadata": {},
          "execution_count": 10
        }
      ],
      "source": [
        "import subprocess, sys\n",
        "subprocess.check_call([sys.executable, \"-m\", \"pip\", \"install\", \"ipywidgets\"])\n",
        "# Enable widgets in classic notebooks (skip in JupyterLab >=3)\n",
        "subprocess.check_call([sys.executable, \"-m\", \"jupyter\", \"nbextension\", \"enable\",\n",
        "                       \"--py\", \"widgetsnbextension\"])"
      ]
    },
    {
      "cell_type": "markdown",
      "metadata": {
        "id": "Lf7yFgl2y5kl"
      },
      "source": [
        "<a name=\"frame-extraction\"></a>\n",
        "## Frame Extraction\n",
        "\n",
        "In this section, we'll be extracting frames from a given video file. By reading the video frame-by-frame, we aim to save specific frames based on a set interval (e.g., every 100th frame) for further processing. This approach helps in reducing the computational load by processing only a subset of the frames instead of every single one.\n"
      ]
    },
    {
      "cell_type": "code",
      "execution_count": 12,
      "metadata": {
        "id": "l09iGXfhy5km"
      },
      "outputs": [],
      "source": [
        "import io, os, tempfile\n",
        "from IPython.display import display, Video\n",
        "import ipywidgets as widgets\n",
        "\n",
        "from landingai.pipeline.image_source import VideoFile\n",
        "from landingai.predict import Predictor, OcrPredictor\n",
        "from landingai import visualize\n",
        "from landingai.postprocess import crop"
      ]
    },
    {
      "cell_type": "code",
      "execution_count": 13,
      "metadata": {
        "id": "Ye9r9vQwy5kn",
        "outputId": "1b5c55f1-cb49-4b13-c669-b6ca9119e59d",
        "colab": {
          "base_uri": "https://localhost:8080/",
          "height": 102,
          "referenced_widgets": [
            "6d9c7c573cb1426c86e1d1cb18291f96",
            "4ae906adaff847e4bb798b37d0fc17ca",
            "432e2585e77446628b58e83cbb9e3379",
            "46146aa4a7b74bafb0b84b171e8e999d",
            "6b011568ef2541a28effd2f8db2d331f",
            "ff4896b1fa0c4e2b809d3379feb27b09",
            "4e3bb3e055a44d2ca2e6ffd6d90b1373",
            "c6bcc49351f54fb28a0d86b9ad6a884b",
            "7d1b41c261af43c09b0cf04043f02be4",
            "8d38065c93f141bbbe663ae733b1da2b"
          ]
        }
      },
      "outputs": [
        {
          "output_type": "display_data",
          "data": {
            "text/plain": [
              "VBox(children=(HTML(value='<h4>Upload a video file for license-plate OCR:</h4>'), FileUpload(value={}, accept=…"
            ],
            "application/vnd.jupyter.widget-view+json": {
              "version_major": 2,
              "version_minor": 0,
              "model_id": "6d9c7c573cb1426c86e1d1cb18291f96"
            }
          },
          "metadata": {}
        }
      ],
      "source": [
        "upload = widgets.FileUpload(accept='video/*', multiple=False)\n",
        "output = widgets.Output()\n",
        "\n",
        "def on_upload(change):\n",
        "    output.clear_output()\n",
        "    if not upload.value:\n",
        "        return\n",
        "    for fname, meta in upload.value.items():\n",
        "        # Save to a temp file\n",
        "        suffix = os.path.splitext(fname)[1]\n",
        "        tmp = tempfile.NamedTemporaryFile(delete=False, suffix=suffix)\n",
        "        tmp.write(meta['content'])\n",
        "        tmp.flush()\n",
        "        tmp_path = tmp.name\n",
        "\n",
        "        # Display uploaded video\n",
        "        with output:\n",
        "            print(f\"Saved upload as {tmp_path}\")\n",
        "            display(Video(tmp_path, width=512))\n",
        "\n",
        "          from landingai.pipeline.image_source import VideoFile\n",
        "video_source = VideoFile(tmp_path, samples_per_second=1)\n",
        "frames = [f.image for f in video_source]\n",
        "from landingai.predict import Predictor\n",
        "from landingai import visualize\n",
        "\n",
        "predictor = Predictor(model_endpoint, api_key=api_key_lp)\n",
        "bounding_boxes, overlayed_frames = [], []\n",
        "for frame in frames:\n",
        "    pred = predictor.predict(frame)\n",
        "    overlayed_frames.append(visualize.overlay_predictions(pred, frame))\n",
        "    bounding_boxes.append(pred)\n",
        "from landingai.postprocess import crop\n",
        "cropped_imgs = []\n",
        "for frame, bboxes in zip(frames, bounding_boxes):\n",
        "    cropped_imgs.append(crop(bboxes, frame))\n",
        "from landingai.predict import OcrPredictor\n",
        "ocr_predictor = OcrPredictor(api_key=api_key_ocr)\n",
        "ocr_results, overlayed_ocr = [], []\n",
        "for plate_group in cropped_imgs:\n",
        "    for plate_img in plate_group:\n",
        "        o = ocr_predictor.predict(plate_img)\n",
        "        overlayed_ocr.append(visualize.overlay_predictions(o, plate_img))\n",
        "        ocr_results.append(o)\n",
        "\n",
        "            # 3a. Extract frames (1 sample/sec)\n",
        "            video_source = VideoFile(tmp_path, samples_per_second=1)\n",
        "            frames = [f.image for f in video_source]\n",
        "            print(f\"Extracted {len(frames)} frames\")\n",
        "\n",
        "            # 3b. Run license‐plate detection\n",
        "            api_key_lp = \"land_sk_aMemWbpd41yXnQ0tXvZMh59ISgRuKNRKjJEIUHnkiH32NBJAwf\"\n",
        "            model_endpoint = \"e001c156-5de0-43f3-9991-f19699b31202\"\n",
        "            lp_predictor = Predictor(model_endpoint, api_key=api_key_lp)\n",
        "\n",
        "            bboxes, overlayed = [], []\n",
        "            for frame in frames:\n",
        "                pred = lp_predictor.predict(frame)\n",
        "                overlayed.append(visualize.overlay_predictions(pred, frame))\n",
        "                bboxes.append(pred)\n",
        "\n",
        "            # Show first few detection overlays\n",
        "            print(\"Detection overlays:\")\n",
        "            for ov in overlayed[:5]:\n",
        "                display(ov)\n",
        "\n",
        "            # 3c. Crop plates\n",
        "            cropped_imgs = []\n",
        "            for frame, boxes in zip(frames, bboxes):\n",
        "                cropped_imgs.append(crop(boxes, frame))\n",
        "            print(f\"Cropped {sum(len(c) for c in cropped_imgs)} plate images\")\n",
        "\n",
        "            # Show a few crops\n",
        "            print(\"Plate crops:\")\n",
        "            for crops in cropped_imgs[:3]:\n",
        "                for c in crops:\n",
        "                    display(c)\n",
        "\n",
        "            # 3d. OCR on each crop\n",
        "            api_key_ocr = \"land_sk_WVYwP00xA3iXely2vuar6YUDZ3MJT9yLX6oW5noUkwICzYLiDV\"\n",
        "            ocr = OcrPredictor(api_key=api_key_ocr)\n",
        "\n",
        "            print(\"OCR results:\")\n",
        "            for crops in cropped_imgs:\n",
        "                for plate_img in crops:\n",
        "                    o = ocr.predict(plate_img)\n",
        "                    ov = visualize.overlay_predictions(o, plate_img)\n",
        "                    display(ov)\n",
        "                    for txt in o:\n",
        "                        print(txt.text)\n",
        "\n",
        "upload.observe(on_upload, names='value')\n",
        "\n",
        "# 4. Display widget & output\n",
        "display(widgets.VBox([\n",
        "    widgets.HTML(value=\"<h4>Upload a video file for license-plate OCR:</h4>\"),\n",
        "    upload,\n",
        "    output\n",
        "]))"
      ]
    },
    {
      "cell_type": "markdown",
      "metadata": {
        "id": "vxxebtBey5kn"
      },
      "source": [
        "<a name=\"license-plate-detection\"></a>\n",
        "\n",
        "## License Plate Detection\n",
        "Once we have our frames, the next step is to detect license plates within these frames. We'll be using a predefined API to help us detect the bounding boxes around the license plates. The results will be overlayed on the frames to visualize the detections."
      ]
    }
  ],
  "metadata": {
    "kernelspec": {
      "display_name": "Python 3 (ipykernel)",
      "language": "python",
      "name": "python3"
    },
    "language_info": {
      "codemirror_mode": {
        "name": "ipython",
        "version": 3
      },
      "file_extension": ".py",
      "mimetype": "text/x-python",
      "name": "python",
      "nbconvert_exporter": "python",
      "pygments_lexer": "ipython3",
      "version": "3.10.0"
    },
    "colab": {
      "provenance": []
    },
    "widgets": {
      "application/vnd.jupyter.widget-state+json": {
        "6d9c7c573cb1426c86e1d1cb18291f96": {
          "model_module": "@jupyter-widgets/controls",
          "model_name": "VBoxModel",
          "model_module_version": "1.5.0",
          "state": {
            "_dom_classes": [],
            "_model_module": "@jupyter-widgets/controls",
            "_model_module_version": "1.5.0",
            "_model_name": "VBoxModel",
            "_view_count": null,
            "_view_module": "@jupyter-widgets/controls",
            "_view_module_version": "1.5.0",
            "_view_name": "VBoxView",
            "box_style": "",
            "children": [
              "IPY_MODEL_4ae906adaff847e4bb798b37d0fc17ca",
              "IPY_MODEL_432e2585e77446628b58e83cbb9e3379",
              "IPY_MODEL_46146aa4a7b74bafb0b84b171e8e999d"
            ],
            "layout": "IPY_MODEL_6b011568ef2541a28effd2f8db2d331f"
          }
        },
        "4ae906adaff847e4bb798b37d0fc17ca": {
          "model_module": "@jupyter-widgets/controls",
          "model_name": "HTMLModel",
          "model_module_version": "1.5.0",
          "state": {
            "_dom_classes": [],
            "_model_module": "@jupyter-widgets/controls",
            "_model_module_version": "1.5.0",
            "_model_name": "HTMLModel",
            "_view_count": null,
            "_view_module": "@jupyter-widgets/controls",
            "_view_module_version": "1.5.0",
            "_view_name": "HTMLView",
            "description": "",
            "description_tooltip": null,
            "layout": "IPY_MODEL_ff4896b1fa0c4e2b809d3379feb27b09",
            "placeholder": "​",
            "style": "IPY_MODEL_4e3bb3e055a44d2ca2e6ffd6d90b1373",
            "value": "<h4>Upload a video file for license-plate OCR:</h4>"
          }
        },
        "432e2585e77446628b58e83cbb9e3379": {
          "model_module": "@jupyter-widgets/controls",
          "model_name": "FileUploadModel",
          "model_module_version": "1.5.0",
          "state": {
            "_counter": 1,
            "_dom_classes": [],
            "_model_module": "@jupyter-widgets/controls",
            "_model_module_version": "1.5.0",
            "_model_name": "FileUploadModel",
            "_view_count": null,
            "_view_module": "@jupyter-widgets/controls",
            "_view_module_version": "1.5.0",
            "_view_name": "FileUploadView",
            "accept": "video/*",
            "button_style": "",
            "data": [
              null
            ],
            "description": "Upload",
            "description_tooltip": null,
            "disabled": false,
            "error": "",
            "icon": "upload",
            "layout": "IPY_MODEL_c6bcc49351f54fb28a0d86b9ad6a884b",
            "metadata": [
              {
                "name": "TimeVideo_20250616_110053 - Sai Killer.mp4",
                "type": "video/mp4",
                "size": 11323547,
                "lastModified": 1751697062352
              }
            ],
            "multiple": false,
            "style": "IPY_MODEL_7d1b41c261af43c09b0cf04043f02be4"
          }
        },
        "46146aa4a7b74bafb0b84b171e8e999d": {
          "model_module": "@jupyter-widgets/output",
          "model_name": "OutputModel",
          "model_module_version": "1.0.0",
          "state": {
            "_dom_classes": [],
            "_model_module": "@jupyter-widgets/output",
            "_model_module_version": "1.0.0",
            "_model_name": "OutputModel",
            "_view_count": null,
            "_view_module": "@jupyter-widgets/output",
            "_view_module_version": "1.0.0",
            "_view_name": "OutputView",
            "layout": "IPY_MODEL_8d38065c93f141bbbe663ae733b1da2b",
            "msg_id": "",
            "outputs": []
          }
        },
        "6b011568ef2541a28effd2f8db2d331f": {
          "model_module": "@jupyter-widgets/base",
          "model_name": "LayoutModel",
          "model_module_version": "1.2.0",
          "state": {
            "_model_module": "@jupyter-widgets/base",
            "_model_module_version": "1.2.0",
            "_model_name": "LayoutModel",
            "_view_count": null,
            "_view_module": "@jupyter-widgets/base",
            "_view_module_version": "1.2.0",
            "_view_name": "LayoutView",
            "align_content": null,
            "align_items": null,
            "align_self": null,
            "border": null,
            "bottom": null,
            "display": null,
            "flex": null,
            "flex_flow": null,
            "grid_area": null,
            "grid_auto_columns": null,
            "grid_auto_flow": null,
            "grid_auto_rows": null,
            "grid_column": null,
            "grid_gap": null,
            "grid_row": null,
            "grid_template_areas": null,
            "grid_template_columns": null,
            "grid_template_rows": null,
            "height": null,
            "justify_content": null,
            "justify_items": null,
            "left": null,
            "margin": null,
            "max_height": null,
            "max_width": null,
            "min_height": null,
            "min_width": null,
            "object_fit": null,
            "object_position": null,
            "order": null,
            "overflow": null,
            "overflow_x": null,
            "overflow_y": null,
            "padding": null,
            "right": null,
            "top": null,
            "visibility": null,
            "width": null
          }
        },
        "ff4896b1fa0c4e2b809d3379feb27b09": {
          "model_module": "@jupyter-widgets/base",
          "model_name": "LayoutModel",
          "model_module_version": "1.2.0",
          "state": {
            "_model_module": "@jupyter-widgets/base",
            "_model_module_version": "1.2.0",
            "_model_name": "LayoutModel",
            "_view_count": null,
            "_view_module": "@jupyter-widgets/base",
            "_view_module_version": "1.2.0",
            "_view_name": "LayoutView",
            "align_content": null,
            "align_items": null,
            "align_self": null,
            "border": null,
            "bottom": null,
            "display": null,
            "flex": null,
            "flex_flow": null,
            "grid_area": null,
            "grid_auto_columns": null,
            "grid_auto_flow": null,
            "grid_auto_rows": null,
            "grid_column": null,
            "grid_gap": null,
            "grid_row": null,
            "grid_template_areas": null,
            "grid_template_columns": null,
            "grid_template_rows": null,
            "height": null,
            "justify_content": null,
            "justify_items": null,
            "left": null,
            "margin": null,
            "max_height": null,
            "max_width": null,
            "min_height": null,
            "min_width": null,
            "object_fit": null,
            "object_position": null,
            "order": null,
            "overflow": null,
            "overflow_x": null,
            "overflow_y": null,
            "padding": null,
            "right": null,
            "top": null,
            "visibility": null,
            "width": null
          }
        },
        "4e3bb3e055a44d2ca2e6ffd6d90b1373": {
          "model_module": "@jupyter-widgets/controls",
          "model_name": "DescriptionStyleModel",
          "model_module_version": "1.5.0",
          "state": {
            "_model_module": "@jupyter-widgets/controls",
            "_model_module_version": "1.5.0",
            "_model_name": "DescriptionStyleModel",
            "_view_count": null,
            "_view_module": "@jupyter-widgets/base",
            "_view_module_version": "1.2.0",
            "_view_name": "StyleView",
            "description_width": ""
          }
        },
        "c6bcc49351f54fb28a0d86b9ad6a884b": {
          "model_module": "@jupyter-widgets/base",
          "model_name": "LayoutModel",
          "model_module_version": "1.2.0",
          "state": {
            "_model_module": "@jupyter-widgets/base",
            "_model_module_version": "1.2.0",
            "_model_name": "LayoutModel",
            "_view_count": null,
            "_view_module": "@jupyter-widgets/base",
            "_view_module_version": "1.2.0",
            "_view_name": "LayoutView",
            "align_content": null,
            "align_items": null,
            "align_self": null,
            "border": null,
            "bottom": null,
            "display": null,
            "flex": null,
            "flex_flow": null,
            "grid_area": null,
            "grid_auto_columns": null,
            "grid_auto_flow": null,
            "grid_auto_rows": null,
            "grid_column": null,
            "grid_gap": null,
            "grid_row": null,
            "grid_template_areas": null,
            "grid_template_columns": null,
            "grid_template_rows": null,
            "height": null,
            "justify_content": null,
            "justify_items": null,
            "left": null,
            "margin": null,
            "max_height": null,
            "max_width": null,
            "min_height": null,
            "min_width": null,
            "object_fit": null,
            "object_position": null,
            "order": null,
            "overflow": null,
            "overflow_x": null,
            "overflow_y": null,
            "padding": null,
            "right": null,
            "top": null,
            "visibility": null,
            "width": null
          }
        },
        "7d1b41c261af43c09b0cf04043f02be4": {
          "model_module": "@jupyter-widgets/controls",
          "model_name": "ButtonStyleModel",
          "model_module_version": "1.5.0",
          "state": {
            "_model_module": "@jupyter-widgets/controls",
            "_model_module_version": "1.5.0",
            "_model_name": "ButtonStyleModel",
            "_view_count": null,
            "_view_module": "@jupyter-widgets/base",
            "_view_module_version": "1.2.0",
            "_view_name": "StyleView",
            "button_color": null,
            "font_weight": ""
          }
        },
        "8d38065c93f141bbbe663ae733b1da2b": {
          "model_module": "@jupyter-widgets/base",
          "model_name": "LayoutModel",
          "model_module_version": "1.2.0",
          "state": {
            "_model_module": "@jupyter-widgets/base",
            "_model_module_version": "1.2.0",
            "_model_name": "LayoutModel",
            "_view_count": null,
            "_view_module": "@jupyter-widgets/base",
            "_view_module_version": "1.2.0",
            "_view_name": "LayoutView",
            "align_content": null,
            "align_items": null,
            "align_self": null,
            "border": null,
            "bottom": null,
            "display": null,
            "flex": null,
            "flex_flow": null,
            "grid_area": null,
            "grid_auto_columns": null,
            "grid_auto_flow": null,
            "grid_auto_rows": null,
            "grid_column": null,
            "grid_gap": null,
            "grid_row": null,
            "grid_template_areas": null,
            "grid_template_columns": null,
            "grid_template_rows": null,
            "height": null,
            "justify_content": null,
            "justify_items": null,
            "left": null,
            "margin": null,
            "max_height": null,
            "max_width": null,
            "min_height": null,
            "min_width": null,
            "object_fit": null,
            "object_position": null,
            "order": null,
            "overflow": null,
            "overflow_x": null,
            "overflow_y": null,
            "padding": null,
            "right": null,
            "top": null,
            "visibility": null,
            "width": null
          }
        }
      }
    }
  },
  "nbformat": 4,
  "nbformat_minor": 0
}